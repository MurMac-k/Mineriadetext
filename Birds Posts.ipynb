{
 "cells": [
  {
   "cell_type": "code",
   "execution_count": 1,
   "id": "9971a06e",
   "metadata": {},
   "outputs": [],
   "source": [
    "#Librerías que usamos para la carga de datos\n",
    "import json\n",
    "from pprint import pprint\n",
    "import os\n",
    "import os.path\n",
    "import pandas as pd\n",
    "import re\n",
    "import numpy as np\n",
    "from owlready2 import *"
   ]
  },
  {
   "cell_type": "markdown",
   "id": "51ba9900",
   "metadata": {},
   "source": [
    "# 1. Preparamos nuestros posts"
   ]
  },
  {
   "cell_type": "code",
   "execution_count": 2,
   "id": "80626dcc",
   "metadata": {},
   "outputs": [
    {
     "data": {
      "text/plain": [
       "'Another species at the birdbath\\nNo Comments »2nd December, 2020; Category: Bird baths, Bush birds, Garden birds, Parrots and Lorikeets\\n\\nPurple-crowned Lorikeet\\nA birdbath delight\\nEarlier this week I glanced out of my sunroom window to check whether there were any birds at my birdbaths. I currently have three birdbaths just outside the room, one on the ground, one on a pedestal at about 60cm and one hanging from a tree branch at a height of about 1.5 metres. I was delighted to see a small flock of Purple-crowned Lorikeets having a drink and dipping into the water for a bath. I have just checked my list of species to have visited the birdbaths. This was bird species number 36, in addition to the three reptiles and two mammal species.\\n\\nAfter a moment or two, I counted up to seven individuals in or near the birdbaths. Soon they were joined by several House Sparrows and three or four New Holland Honeyeaters. There was a sudden screeching and a flurry of wings as a Collared Sparrowhawk swooped in to break up the party. I didn’t see if it caught anything for its supper.\\n\\n\\nPurple-crowned Lorikeet\\nCommon species\\nThe Purple-crowned Lorikeet is a common bird in the Murray Bridge district of South Australia where I live. On most occasions, however, I hear them go screeching overhead at speed and rarely get good views of them like in today’s photos. Sometimes I am lucky enough to see them reasonably close when they land to feed on the blossoms of one of the mallee trees on my land. That is when my binoculars help out, as well as the 83x zoom on my camera.\\n\\n\\nPurple-crowned Lorikeet\\nOther lorikeet species\\nThere are two other lorikeet species which visit my garden or the trees on my 5-acre block. They include the very common Rainbow Lorikeet and the dainty, much smaller, Musk Lorikeet.\\n\\nI am so pleased to have the delight of regularly seeing all three of these colourful parrots right where I live.\\n\\n\\nPurple-crowned Lorikeet\\n\\n'"
      ]
     },
     "execution_count": 2,
     "metadata": {},
     "output_type": "execute_result"
    }
   ],
   "source": [
    "docs=os.listdir(\"EntradasTexto/\")\n",
    "path='EntradasTexto/'\n",
    "entradas=[]\n",
    "\n",
    "#En el bucle creamos un path porque se encuentra en un carpeta del working directory\n",
    "for doc in docs:\n",
    "    path1=os.path.join(path, doc) \n",
    "    dt=open(path1, 'r')\n",
    "    texto = dt.read()\n",
    "    #print(texto)\n",
    "    entradas.append(texto)\n",
    "    dt.close()\n",
    "\n",
    "entradas[1] #Visualizamos el segundo elemento de la lista"
   ]
  },
  {
   "cell_type": "code",
   "execution_count": 3,
   "id": "eedaaa27",
   "metadata": {},
   "outputs": [
    {
     "data": {
      "text/plain": [
       "10"
      ]
     },
     "execution_count": 3,
     "metadata": {},
     "output_type": "execute_result"
    }
   ],
   "source": [
    "len(entradas)"
   ]
  },
  {
   "cell_type": "markdown",
   "id": "b4583639",
   "metadata": {},
   "source": [
    "# 2. Preparamos nuestra lista de pájaros"
   ]
  },
  {
   "cell_type": "code",
   "execution_count": 4,
   "id": "4789bb88",
   "metadata": {},
   "outputs": [
    {
     "name": "stdout",
     "output_type": "stream",
     "text": [
      "Total enlaces: 10000\n",
      "Total nombres de pájaros: 10000\n"
     ]
    }
   ],
   "source": [
    "birdslist = []\n",
    "links = []\n",
    "\n",
    "f = open(\"sparql.json\", \"r\")\n",
    "content = f.read()\n",
    "jsondecoded = json.loads(content)\n",
    "for value in jsondecoded['results']['bindings']:\n",
    "    links.append(value['x']['value'])\n",
    "    #print(value['x']['value'])\n",
    "print('Total enlaces:', len(links)) #Total de enlaces que tenemos\n",
    "\n",
    "for link in links:\n",
    "    tmp = link.split(\"/\")\n",
    "    birdname=tmp[-1]\n",
    "    birdname = re.sub(r'[-_]', ' ', birdname) #Reemplaza los '-' y '_' por un espacio\n",
    "    birdname = re.sub(r'[()]', '', birdname) #Elimina los caracteres ()\n",
    "    birdslist.append(birdname)\n",
    "    #print(tmp[-1])\n",
    "    \n",
    "print('Total nombres de pájaros:', len(birdslist))"
   ]
  },
  {
   "cell_type": "code",
   "execution_count": 5,
   "id": "f84eba0a",
   "metadata": {},
   "outputs": [
    {
     "data": {
      "text/html": [
       "<div>\n",
       "<style scoped>\n",
       "    .dataframe tbody tr th:only-of-type {\n",
       "        vertical-align: middle;\n",
       "    }\n",
       "\n",
       "    .dataframe tbody tr th {\n",
       "        vertical-align: top;\n",
       "    }\n",
       "\n",
       "    .dataframe thead th {\n",
       "        text-align: right;\n",
       "    }\n",
       "</style>\n",
       "<table border=\"1\" class=\"dataframe\">\n",
       "  <thead>\n",
       "    <tr style=\"text-align: right;\">\n",
       "      <th></th>\n",
       "      <th>Birds_name</th>\n",
       "      <th>Birds_link</th>\n",
       "    </tr>\n",
       "  </thead>\n",
       "  <tbody>\n",
       "    <tr>\n",
       "      <th>0</th>\n",
       "      <td>Actenoides</td>\n",
       "      <td>http://dbpedia.org/resource/Actenoides</td>\n",
       "    </tr>\n",
       "    <tr>\n",
       "      <th>1</th>\n",
       "      <td>African goshawk</td>\n",
       "      <td>http://dbpedia.org/resource/African_goshawk</td>\n",
       "    </tr>\n",
       "    <tr>\n",
       "      <th>2</th>\n",
       "      <td>African pitta</td>\n",
       "      <td>http://dbpedia.org/resource/African_pitta</td>\n",
       "    </tr>\n",
       "    <tr>\n",
       "      <th>3</th>\n",
       "      <td>African red eyed bulbul</td>\n",
       "      <td>http://dbpedia.org/resource/African_red-eyed_b...</td>\n",
       "    </tr>\n",
       "    <tr>\n",
       "      <th>4</th>\n",
       "      <td>Alcedo</td>\n",
       "      <td>http://dbpedia.org/resource/Alcedo</td>\n",
       "    </tr>\n",
       "  </tbody>\n",
       "</table>\n",
       "</div>"
      ],
      "text/plain": [
       "                Birds_name                                         Birds_link\n",
       "0               Actenoides             http://dbpedia.org/resource/Actenoides\n",
       "1          African goshawk        http://dbpedia.org/resource/African_goshawk\n",
       "2            African pitta          http://dbpedia.org/resource/African_pitta\n",
       "3  African red eyed bulbul  http://dbpedia.org/resource/African_red-eyed_b...\n",
       "4                   Alcedo                 http://dbpedia.org/resource/Alcedo"
      ]
     },
     "execution_count": 5,
     "metadata": {},
     "output_type": "execute_result"
    }
   ],
   "source": [
    "birdsdf=pd.DataFrame([birdslist, links]).transpose()\n",
    "birdsdf.columns=['Birds_name','Birds_link']\n",
    "birdsdf.head()"
   ]
  },
  {
   "cell_type": "code",
   "execution_count": null,
   "id": "14e58183",
   "metadata": {},
   "outputs": [],
   "source": []
  },
  {
   "cell_type": "markdown",
   "id": "8c09d90b",
   "metadata": {},
   "source": [
    "# 3. Hacemos el matching"
   ]
  },
  {
   "cell_type": "code",
   "execution_count": 6,
   "id": "8b0aff8a",
   "metadata": {},
   "outputs": [
    {
     "name": "stdout",
     "output_type": "stream",
     "text": [
      "17\n",
      "         Birds\n",
      "0       Dunlin\n",
      "1       Magpie\n",
      "2       Avocet\n",
      "3        Booby\n",
      "4        Eagle\n",
      "5     Flamingo\n",
      "6         Gull\n",
      "7      Hoatzin\n",
      "8      Pelican\n",
      "9         Tern\n",
      "10     Vulture\n",
      "11       Eagle\n",
      "12      Hoopoe\n",
      "13     Redwing\n",
      "14  Shearwater\n",
      "15        Gull\n",
      "16        Gull\n",
      "10\n",
      "[1, 0, 1, 0, 9, 0, 0, 4, 1, 1]\n"
     ]
    }
   ],
   "source": [
    "import spacy\n",
    "from spacy.matcher import PhraseMatcher\n",
    "\n",
    "nlp = spacy.blank('en')\n",
    "matcher = PhraseMatcher(nlp.vocab)\n",
    "\n",
    "patterns = list(nlp.pipe(birdslist))\n",
    "matcher.add(\"Birds\", None, *patterns)\n",
    "\n",
    "allmatches=pd.DataFrame(columns=['Birds'])\n",
    "matchesDoc=[]\n",
    "for doc in nlp.pipe(entradas):\n",
    "    matches = matcher(doc)\n",
    "    result = [doc[start:end] for match_id, start, end in matches]\n",
    "    tmp = []\n",
    "    for word in result:\n",
    "        tmp.append(word.text)\n",
    "    x = np.array(tmp)\n",
    "    tmppd = np.unique(x)\n",
    "    matchesDoc.append(len(tmppd))\n",
    "    tmppd = pd.DataFrame(tmppd, columns=['Birds'])\n",
    "    allmatches=pd.concat([allmatches, tmppd], axis=0, ignore_index=True)\n",
    "        \n",
    "print(len(allmatches))\n",
    "print(allmatches)\n",
    "print(len(matchesDoc))\n",
    "print(matchesDoc) #Total Pájaros encontrados por documento"
   ]
  },
  {
   "cell_type": "code",
   "execution_count": 7,
   "id": "458e225a",
   "metadata": {},
   "outputs": [
    {
     "name": "stdout",
     "output_type": "stream",
     "text": [
      "17\n"
     ]
    }
   ],
   "source": [
    "#Creamos una columna siguiendo la secuencia de pájaros encontrados por documento\n",
    "docs = [1, 3, 5, 5, 5, 5, 5, 5, 5, 5, 5, 8, 8, 8, 8, 9, 10]\n",
    "docs = pd.DataFrame(docs, columns=['Documento'])\n",
    "print(len(docs))"
   ]
  },
  {
   "cell_type": "code",
   "execution_count": 8,
   "id": "eec813e6",
   "metadata": {},
   "outputs": [
    {
     "data": {
      "text/html": [
       "<div>\n",
       "<style scoped>\n",
       "    .dataframe tbody tr th:only-of-type {\n",
       "        vertical-align: middle;\n",
       "    }\n",
       "\n",
       "    .dataframe tbody tr th {\n",
       "        vertical-align: top;\n",
       "    }\n",
       "\n",
       "    .dataframe thead th {\n",
       "        text-align: right;\n",
       "    }\n",
       "</style>\n",
       "<table border=\"1\" class=\"dataframe\">\n",
       "  <thead>\n",
       "    <tr style=\"text-align: right;\">\n",
       "      <th></th>\n",
       "      <th>Post</th>\n",
       "      <th>Birds</th>\n",
       "    </tr>\n",
       "  </thead>\n",
       "  <tbody>\n",
       "    <tr>\n",
       "      <th>0</th>\n",
       "      <td>1</td>\n",
       "      <td>Dunlin</td>\n",
       "    </tr>\n",
       "    <tr>\n",
       "      <th>1</th>\n",
       "      <td>3</td>\n",
       "      <td>Magpie</td>\n",
       "    </tr>\n",
       "    <tr>\n",
       "      <th>2</th>\n",
       "      <td>5</td>\n",
       "      <td>Avocet</td>\n",
       "    </tr>\n",
       "    <tr>\n",
       "      <th>3</th>\n",
       "      <td>5</td>\n",
       "      <td>Booby</td>\n",
       "    </tr>\n",
       "    <tr>\n",
       "      <th>4</th>\n",
       "      <td>5</td>\n",
       "      <td>Eagle</td>\n",
       "    </tr>\n",
       "    <tr>\n",
       "      <th>5</th>\n",
       "      <td>5</td>\n",
       "      <td>Flamingo</td>\n",
       "    </tr>\n",
       "    <tr>\n",
       "      <th>6</th>\n",
       "      <td>5</td>\n",
       "      <td>Gull</td>\n",
       "    </tr>\n",
       "    <tr>\n",
       "      <th>7</th>\n",
       "      <td>5</td>\n",
       "      <td>Hoatzin</td>\n",
       "    </tr>\n",
       "    <tr>\n",
       "      <th>8</th>\n",
       "      <td>5</td>\n",
       "      <td>Pelican</td>\n",
       "    </tr>\n",
       "    <tr>\n",
       "      <th>9</th>\n",
       "      <td>5</td>\n",
       "      <td>Tern</td>\n",
       "    </tr>\n",
       "    <tr>\n",
       "      <th>10</th>\n",
       "      <td>5</td>\n",
       "      <td>Vulture</td>\n",
       "    </tr>\n",
       "    <tr>\n",
       "      <th>11</th>\n",
       "      <td>8</td>\n",
       "      <td>Eagle</td>\n",
       "    </tr>\n",
       "    <tr>\n",
       "      <th>12</th>\n",
       "      <td>8</td>\n",
       "      <td>Hoopoe</td>\n",
       "    </tr>\n",
       "    <tr>\n",
       "      <th>13</th>\n",
       "      <td>8</td>\n",
       "      <td>Redwing</td>\n",
       "    </tr>\n",
       "    <tr>\n",
       "      <th>14</th>\n",
       "      <td>8</td>\n",
       "      <td>Shearwater</td>\n",
       "    </tr>\n",
       "    <tr>\n",
       "      <th>15</th>\n",
       "      <td>9</td>\n",
       "      <td>Gull</td>\n",
       "    </tr>\n",
       "    <tr>\n",
       "      <th>16</th>\n",
       "      <td>10</td>\n",
       "      <td>Gull</td>\n",
       "    </tr>\n",
       "  </tbody>\n",
       "</table>\n",
       "</div>"
      ],
      "text/plain": [
       "    Post       Birds\n",
       "0      1      Dunlin\n",
       "1      3      Magpie\n",
       "2      5      Avocet\n",
       "3      5       Booby\n",
       "4      5       Eagle\n",
       "5      5    Flamingo\n",
       "6      5        Gull\n",
       "7      5     Hoatzin\n",
       "8      5     Pelican\n",
       "9      5        Tern\n",
       "10     5     Vulture\n",
       "11     8       Eagle\n",
       "12     8      Hoopoe\n",
       "13     8     Redwing\n",
       "14     8  Shearwater\n",
       "15     9        Gull\n",
       "16    10        Gull"
      ]
     },
     "execution_count": 8,
     "metadata": {},
     "output_type": "execute_result"
    }
   ],
   "source": [
    "BirdsOfPosts=pd.concat([docs, allmatches], axis=1, ignore_index=True)\n",
    "BirdsOfPosts.columns=['Post', 'Birds']\n",
    "BirdsOfPosts"
   ]
  },
  {
   "cell_type": "code",
   "execution_count": 9,
   "id": "f6043a70",
   "metadata": {},
   "outputs": [
    {
     "name": "stdout",
     "output_type": "stream",
     "text": [
      "            Post                              Birds_link\n",
      "Dunlin         1      http://dbpedia.org/resource/Dunlin\n",
      "Magpie         3      http://dbpedia.org/resource/Magpie\n",
      "Avocet         5      http://dbpedia.org/resource/Avocet\n",
      "Pelican        5     http://dbpedia.org/resource/Pelican\n",
      "Hoatzin        5     http://dbpedia.org/resource/Hoatzin\n",
      "Tern           5        http://dbpedia.org/resource/Tern\n",
      "Vulture        5     http://dbpedia.org/resource/Vulture\n",
      "Flamingo       5    http://dbpedia.org/resource/Flamingo\n",
      "Eagle          5       http://dbpedia.org/resource/Eagle\n",
      "Booby          5       http://dbpedia.org/resource/Booby\n",
      "Gull           5        http://dbpedia.org/resource/Gull\n",
      "Eagle          8       http://dbpedia.org/resource/Eagle\n",
      "Hoopoe         8      http://dbpedia.org/resource/Hoopoe\n",
      "Redwing        8     http://dbpedia.org/resource/Redwing\n",
      "Shearwater     8  http://dbpedia.org/resource/Shearwater\n",
      "Gull           9        http://dbpedia.org/resource/Gull\n",
      "Gull          10        http://dbpedia.org/resource/Gull\n"
     ]
    }
   ],
   "source": [
    "BirdsOfPosts= BirdsOfPosts.set_index('Birds').join(birdsdf.set_index('Birds_name'))\n",
    "BirdsOfPosts = BirdsOfPosts.sort_values('Post')\n",
    "print(BirdsOfPosts)"
   ]
  },
  {
   "cell_type": "code",
   "execution_count": null,
   "id": "da2f3a02",
   "metadata": {},
   "outputs": [],
   "source": []
  },
  {
   "cell_type": "markdown",
   "id": "7e1941d0",
   "metadata": {},
   "source": [
    "# 4. Creamos nuestra Ontología"
   ]
  },
  {
   "cell_type": "code",
   "execution_count": 10,
   "id": "d480f2ea",
   "metadata": {},
   "outputs": [],
   "source": [
    "#Creamos una ontología\n",
    "onto = get_ontology(\"http://test.org/onto.owl\")"
   ]
  },
  {
   "cell_type": "code",
   "execution_count": 11,
   "id": "f5d1fe08",
   "metadata": {},
   "outputs": [],
   "source": [
    "with onto:\n",
    "    class Bird(Thing):\n",
    "        pass\n",
    "    class Post(Thing):\n",
    "        pass\n",
    "    class Mention(Post >> Bird):\n",
    "        pass   "
   ]
  },
  {
   "cell_type": "code",
   "execution_count": 12,
   "id": "fda03081",
   "metadata": {},
   "outputs": [],
   "source": [
    "Dunlin = Bird(\"Dunlin\")\n",
    "Dunlin.iri = 'http://dbpedia.org/resource/Dunlin'\n",
    "Magpie = Bird(\"Magpie\")    \n",
    "Magpie.iri = 'http://dbpedia.org/resource/Magpie'\n",
    "Avocet = Bird(\"Avocet\") \n",
    "Avocet.iri = 'http://dbpedia.org/resource/Avocet'\n",
    "Pelican = Bird(\"Pelican\") \n",
    "Pelican.iri = 'http://dbpedia.org/resource/Pelican'\n",
    "Hoatzin = Bird(\"Hoatzin\")   \n",
    "Hoatzin.iri = 'http://dbpedia.org/resource/Hoatzin'\n",
    "Tern = Bird(\"Tern\") \n",
    "Tern.iri = 'http://dbpedia.org/resource/Tern'\n",
    "Vulture = Bird(\"Vulture\") \n",
    "Vulture.iri = 'http://dbpedia.org/resource/Vulture'\n",
    "Flamingo = Bird(\"Flamingo\") \n",
    "Flamingo.iri = 'http://dbpedia.org/resource/Flamingo'\n",
    "Eagle = Bird(\"Eagle\")    \n",
    "Eagle.iri = 'http://dbpedia.org/resource/Eagle'\n",
    "Booby = Bird(\"Booby\") \n",
    "Booby.iri = 'http://dbpedia.org/resource/Booby'\n",
    "Gull = Bird(\"Gull\")\n",
    "Gull.iri = 'http://dbpedia.org/resource/Gull'\n",
    "Hoopoe = Bird(\"Hoopoe\")   \n",
    "Hoopoe.iri = 'http://dbpedia.org/resource/Hoopoe'\n",
    "Redwing = Bird(\"Redwing\")  \n",
    "Redwing.iri = 'http://dbpedia.org/resource/Redwing'\n",
    "Shearwater = Bird(\"Shearwater\")\n",
    "Shearwater.iri = 'http://dbpedia.org/resource/Shearwater'"
   ]
  },
  {
   "cell_type": "code",
   "execution_count": 13,
   "id": "8deb8082",
   "metadata": {},
   "outputs": [],
   "source": [
    "#creación de individuales\n",
    "post1 = Post(\"TRACKING DUNLIN IN THE FRASER ESTUARY\")\n",
    "post2 = Post(\"Another species at the birdbath\")\n",
    "post3 = Post(\"A Family of Currawongs\")\n",
    "post4 = Post(\"Another Lovebird visit\")\n",
    "post5 = Post(\"Whirlwind Peru!\")\n",
    "post6 = Post(\"A Ringneck mealtime\")\n",
    "post7 = Post(\"A busy pair of Galahs\")\n",
    "post8 = Post(\"Last-Minute Algarve, Portugal! Oct 26-28, 2021\")\n",
    "post9 = Post(\"\\\"Black\\\" Brant in New Haven Harbor\")\n",
    "post10 = Post(\"A Murder in New Haven...Shocker!\")"
   ]
  },
  {
   "cell_type": "code",
   "execution_count": 14,
   "id": "ea53923d",
   "metadata": {},
   "outputs": [],
   "source": [
    "#Creación de relaciones\n",
    "post1.Mention = [Dunlin]\n",
    "post3.Mention = [Magpie]\n",
    "post5.Mention = [Avocet, Pelican, Hoatzin, Tern, Vulture, Flamingo, Eagle, Booby, Gull]\n",
    "post8.Mention = [Eagle, Hoopoe, Redwing, Shearwater]\n",
    "post9.Mention = [Gull]\n",
    "post10.Mention = [Gull]"
   ]
  },
  {
   "cell_type": "code",
   "execution_count": 15,
   "id": "7f75396f",
   "metadata": {},
   "outputs": [],
   "source": [
    "#Guardamos nuesta ontología\n",
    "onto.save(file=\"myOntology.xml\", format = \"rdfxml\")"
   ]
  },
  {
   "cell_type": "code",
   "execution_count": 16,
   "id": "c4397dc7",
   "metadata": {},
   "outputs": [
    {
     "name": "stdout",
     "output_type": "stream",
     "text": [
      "<?xml version=\"1.0\"?>\r\n",
      "<rdf:RDF xmlns:rdf=\"http://www.w3.org/1999/02/22-rdf-syntax-ns#\"\r\n",
      "         xmlns:xsd=\"http://www.w3.org/2001/XMLSchema#\"\r\n",
      "         xmlns:rdfs=\"http://www.w3.org/2000/01/rdf-schema#\"\r\n",
      "         xmlns:owl=\"http://www.w3.org/2002/07/owl#\"\r\n",
      "         xml:base=\"http://test.org/onto.owl\"\r\n",
      "         xmlns=\"http://test.org/onto.owl#\">\r\n",
      "\r\n",
      "<owl:Ontology rdf:about=\"http://test.org/onto.owl\"/>\r\n",
      "\r\n",
      "<owl:ObjectProperty rdf:about=\"#Mention\">\r\n",
      "  <rdfs:range rdf:resource=\"#Bird\"/>\r\n",
      "  <rdfs:domain rdf:resource=\"#Post\"/>\r\n",
      "</owl:ObjectProperty>\r\n",
      "\r\n",
      "<owl:Class rdf:about=\"#Bird\">\r\n",
      "  <rdfs:subClassOf rdf:resource=\"http://www.w3.org/2002/07/owl#Thing\"/>\r\n",
      "</owl:Class>\r\n",
      "\r\n",
      "<owl:Class rdf:about=\"#Post\">\r\n",
      "  <rdfs:subClassOf rdf:resource=\"http://www.w3.org/2002/07/owl#Thing\"/>\r\n",
      "</owl:Class>\r\n",
      "\r\n",
      "<Bird rdf:about=\"http://dbpedia.org/resource/Dunlin\">\r\n",
      "  <rdf:type rdf:resource=\"http://www.w3.org/2002/07/owl#NamedIndividual\"/>\r\n",
      "</Bird>\r\n",
      "\r\n",
      "<Bird rdf:about=\"http://dbpedia.org/resource/Magpie\">\r\n",
      "  <rdf:type rdf:resource=\"http://www.w3.org/2002/07/owl#NamedIndividual\"/>\r\n",
      "</Bird>\r\n",
      "\r\n",
      "<Bird rdf:about=\"http://dbpedia.org/resource/Avocet\">\r\n",
      "  <rdf:type rdf:resource=\"http://www.w3.org/2002/07/owl#NamedIndividual\"/>\r\n",
      "</Bird>\r\n",
      "\r\n",
      "<Bird rdf:about=\"http://dbpedia.org/resource/Pelican\">\r\n",
      "  <rdf:type rdf:resource=\"http://www.w3.org/2002/07/owl#NamedIndividual\"/>\r\n",
      "</Bird>\r\n",
      "\r\n",
      "<Bird rdf:about=\"http://dbpedia.org/resource/Hoatzin\">\r\n",
      "  <rdf:type rdf:resource=\"http://www.w3.org/2002/07/owl#NamedIndividual\"/>\r\n",
      "</Bird>\r\n",
      "\r\n",
      "<Bird rdf:about=\"http://dbpedia.org/resource/Tern\">\r\n",
      "  <rdf:type rdf:resource=\"http://www.w3.org/2002/07/owl#NamedIndividual\"/>\r\n",
      "</Bird>\r\n",
      "\r\n",
      "<Bird rdf:about=\"http://dbpedia.org/resource/Vulture\">\r\n",
      "  <rdf:type rdf:resource=\"http://www.w3.org/2002/07/owl#NamedIndividual\"/>\r\n",
      "</Bird>\r\n",
      "\r\n",
      "<Bird rdf:about=\"http://dbpedia.org/resource/Flamingo\">\r\n",
      "  <rdf:type rdf:resource=\"http://www.w3.org/2002/07/owl#NamedIndividual\"/>\r\n",
      "</Bird>\r\n",
      "\r\n",
      "<Bird rdf:about=\"http://dbpedia.org/resource/Eagle\">\r\n",
      "  <rdf:type rdf:resource=\"http://www.w3.org/2002/07/owl#NamedIndividual\"/>\r\n",
      "</Bird>\r\n",
      "\r\n",
      "<Bird rdf:about=\"http://dbpedia.org/resource/Booby\">\r\n",
      "  <rdf:type rdf:resource=\"http://www.w3.org/2002/07/owl#NamedIndividual\"/>\r\n",
      "</Bird>\r\n",
      "\r\n",
      "<Bird rdf:about=\"http://dbpedia.org/resource/Gull\">\r\n",
      "  <rdf:type rdf:resource=\"http://www.w3.org/2002/07/owl#NamedIndividual\"/>\r\n",
      "</Bird>\r\n",
      "\r\n",
      "<Bird rdf:about=\"http://dbpedia.org/resource/Hoopoe\">\r\n",
      "  <rdf:type rdf:resource=\"http://www.w3.org/2002/07/owl#NamedIndividual\"/>\r\n",
      "</Bird>\r\n",
      "\r\n",
      "<Bird rdf:about=\"http://dbpedia.org/resource/Redwing\">\r\n",
      "  <rdf:type rdf:resource=\"http://www.w3.org/2002/07/owl#NamedIndividual\"/>\r\n",
      "</Bird>\r\n",
      "\r\n",
      "<Bird rdf:about=\"http://dbpedia.org/resource/Shearwater\">\r\n",
      "  <rdf:type rdf:resource=\"http://www.w3.org/2002/07/owl#NamedIndividual\"/>\r\n",
      "</Bird>\r\n",
      "\r\n",
      "<Post rdf:about=\"#TRACKING DUNLIN IN THE FRASER ESTUARY\">\r\n",
      "  <rdf:type rdf:resource=\"http://www.w3.org/2002/07/owl#NamedIndividual\"/>\r\n",
      "  <Mention rdf:resource=\"http://dbpedia.org/resource/Dunlin\"/>\r\n",
      "</Post>\r\n",
      "\r\n",
      "<Post rdf:about=\"#Another species at the birdbath\">\r\n",
      "  <rdf:type rdf:resource=\"http://www.w3.org/2002/07/owl#NamedIndividual\"/>\r\n",
      "</Post>\r\n",
      "\r\n",
      "<Post rdf:about=\"#A Family of Currawongs\">\r\n",
      "  <rdf:type rdf:resource=\"http://www.w3.org/2002/07/owl#NamedIndividual\"/>\r\n",
      "  <Mention rdf:resource=\"http://dbpedia.org/resource/Magpie\"/>\r\n",
      "</Post>\r\n",
      "\r\n",
      "<Post rdf:about=\"#Another Lovebird visit\">\r\n",
      "  <rdf:type rdf:resource=\"http://www.w3.org/2002/07/owl#NamedIndividual\"/>\r\n",
      "</Post>\r\n",
      "\r\n",
      "<Post rdf:about=\"#Whirlwind Peru!\">\r\n",
      "  <rdf:type rdf:resource=\"http://www.w3.org/2002/07/owl#NamedIndividual\"/>\r\n",
      "  <Mention rdf:resource=\"http://dbpedia.org/resource/Avocet\"/>\r\n",
      "  <Mention rdf:resource=\"http://dbpedia.org/resource/Pelican\"/>\r\n",
      "  <Mention rdf:resource=\"http://dbpedia.org/resource/Hoatzin\"/>\r\n",
      "  <Mention rdf:resource=\"http://dbpedia.org/resource/Tern\"/>\r\n",
      "  <Mention rdf:resource=\"http://dbpedia.org/resource/Vulture\"/>\r\n",
      "  <Mention rdf:resource=\"http://dbpedia.org/resource/Flamingo\"/>\r\n",
      "  <Mention rdf:resource=\"http://dbpedia.org/resource/Eagle\"/>\r\n",
      "  <Mention rdf:resource=\"http://dbpedia.org/resource/Booby\"/>\r\n",
      "  <Mention rdf:resource=\"http://dbpedia.org/resource/Gull\"/>\r\n",
      "</Post>\r\n",
      "\r\n",
      "<Post rdf:about=\"#A Ringneck mealtime\">\r\n",
      "  <rdf:type rdf:resource=\"http://www.w3.org/2002/07/owl#NamedIndividual\"/>\r\n",
      "</Post>\r\n",
      "\r\n",
      "<Post rdf:about=\"#A busy pair of Galahs\">\r\n",
      "  <rdf:type rdf:resource=\"http://www.w3.org/2002/07/owl#NamedIndividual\"/>\r\n",
      "</Post>\r\n",
      "\r\n",
      "<Post rdf:about=\"#Last-Minute Algarve, Portugal! Oct 26-28, 2021\">\r\n",
      "  <rdf:type rdf:resource=\"http://www.w3.org/2002/07/owl#NamedIndividual\"/>\r\n",
      "  <Mention rdf:resource=\"http://dbpedia.org/resource/Eagle\"/>\r\n",
      "  <Mention rdf:resource=\"http://dbpedia.org/resource/Hoopoe\"/>\r\n",
      "  <Mention rdf:resource=\"http://dbpedia.org/resource/Redwing\"/>\r\n",
      "  <Mention rdf:resource=\"http://dbpedia.org/resource/Shearwater\"/>\r\n",
      "</Post>\r\n",
      "\r\n",
      "<Post rdf:about=\"#\"Black\" Brant in New Haven Harbor\">\r\n",
      "  <rdf:type rdf:resource=\"http://www.w3.org/2002/07/owl#NamedIndividual\"/>\r\n",
      "  <Mention rdf:resource=\"http://dbpedia.org/resource/Gull\"/>\r\n",
      "</Post>\r\n",
      "\r\n",
      "<Post rdf:about=\"#A Murder in New Haven...Shocker!\">\r\n",
      "  <rdf:type rdf:resource=\"http://www.w3.org/2002/07/owl#NamedIndividual\"/>\r\n",
      "  <Mention rdf:resource=\"http://dbpedia.org/resource/Gull\"/>\r\n",
      "</Post>\r\n",
      "\r\n",
      "\r\n",
      "</rdf:RDF>\r\n"
     ]
    }
   ],
   "source": [
    "!cat /Users/kellymm/Desktop/MASTER\\ DS/Mineria\\ de\\ dades\\ i\\ text/SegundaParte/TrabajosSegundaParte/TrabajoBirds/myOntology.xml"
   ]
  },
  {
   "cell_type": "code",
   "execution_count": null,
   "id": "f1c97870",
   "metadata": {},
   "outputs": [],
   "source": []
  },
  {
   "cell_type": "code",
   "execution_count": null,
   "id": "4328d520",
   "metadata": {},
   "outputs": [],
   "source": []
  },
  {
   "cell_type": "code",
   "execution_count": null,
   "id": "74bb4eb8",
   "metadata": {},
   "outputs": [],
   "source": []
  },
  {
   "cell_type": "code",
   "execution_count": null,
   "id": "93afdd67",
   "metadata": {},
   "outputs": [],
   "source": []
  },
  {
   "cell_type": "code",
   "execution_count": null,
   "id": "60ebcac2",
   "metadata": {},
   "outputs": [],
   "source": []
  },
  {
   "cell_type": "code",
   "execution_count": null,
   "id": "7e1fd3af",
   "metadata": {},
   "outputs": [],
   "source": []
  }
 ],
 "metadata": {
  "kernelspec": {
   "display_name": "Python 3",
   "language": "python",
   "name": "python3"
  },
  "language_info": {
   "codemirror_mode": {
    "name": "ipython",
    "version": 3
   },
   "file_extension": ".py",
   "mimetype": "text/x-python",
   "name": "python",
   "nbconvert_exporter": "python",
   "pygments_lexer": "ipython3",
   "version": "3.8.10"
  }
 },
 "nbformat": 4,
 "nbformat_minor": 5
}
